{
 "cells": [
  {
   "cell_type": "code",
   "execution_count": 77,
   "metadata": {
    "collapsed": true,
    "ExecuteTime": {
     "end_time": "2023-11-01T11:30:13.474548100Z",
     "start_time": "2023-11-01T11:30:13.472549500Z"
    }
   },
   "outputs": [],
   "source": [
    "import pandas as pd\n",
    "import numpy as np"
   ]
  },
  {
   "cell_type": "code",
   "execution_count": 78,
   "outputs": [
    {
     "data": {
      "text/plain": "             imdbid         year    metascore  imdb user rating   \ncount  2.858000e+03  2858.000000  2858.000000       2858.000000  \\\nmean   1.492081e+06  1986.665150    44.815605          5.856543   \nstd    2.459241e+06   154.879642    32.738149          2.190857   \nmin    5.353000e+03    -1.000000    -1.000000         -1.000000   \n25%    1.078522e+05  1992.000000    -1.000000          6.000000   \n50%    3.717350e+05  2003.000000    54.000000          6.000000   \n75%    1.596825e+06  2011.000000    71.000000          7.000000   \nmax    1.352722e+07  2021.000000   100.000000          9.000000   \n\n       number of imdb user votes  \ncount               2.858000e+03  \nmean                1.392193e+05  \nstd                 2.283760e+05  \nmin                -1.000000e+00  \n25%                 7.400000e+03  \n50%                 5.436900e+04  \n75%                 1.689790e+05  \nmax                 2.312225e+06  ",
      "text/html": "<div>\n<style scoped>\n    .dataframe tbody tr th:only-of-type {\n        vertical-align: middle;\n    }\n\n    .dataframe tbody tr th {\n        vertical-align: top;\n    }\n\n    .dataframe thead th {\n        text-align: right;\n    }\n</style>\n<table border=\"1\" class=\"dataframe\">\n  <thead>\n    <tr style=\"text-align: right;\">\n      <th></th>\n      <th>imdbid</th>\n      <th>year</th>\n      <th>metascore</th>\n      <th>imdb user rating</th>\n      <th>number of imdb user votes</th>\n    </tr>\n  </thead>\n  <tbody>\n    <tr>\n      <th>count</th>\n      <td>2.858000e+03</td>\n      <td>2858.000000</td>\n      <td>2858.000000</td>\n      <td>2858.000000</td>\n      <td>2.858000e+03</td>\n    </tr>\n    <tr>\n      <th>mean</th>\n      <td>1.492081e+06</td>\n      <td>1986.665150</td>\n      <td>44.815605</td>\n      <td>5.856543</td>\n      <td>1.392193e+05</td>\n    </tr>\n    <tr>\n      <th>std</th>\n      <td>2.459241e+06</td>\n      <td>154.879642</td>\n      <td>32.738149</td>\n      <td>2.190857</td>\n      <td>2.283760e+05</td>\n    </tr>\n    <tr>\n      <th>min</th>\n      <td>5.353000e+03</td>\n      <td>-1.000000</td>\n      <td>-1.000000</td>\n      <td>-1.000000</td>\n      <td>-1.000000e+00</td>\n    </tr>\n    <tr>\n      <th>25%</th>\n      <td>1.078522e+05</td>\n      <td>1992.000000</td>\n      <td>-1.000000</td>\n      <td>6.000000</td>\n      <td>7.400000e+03</td>\n    </tr>\n    <tr>\n      <th>50%</th>\n      <td>3.717350e+05</td>\n      <td>2003.000000</td>\n      <td>54.000000</td>\n      <td>6.000000</td>\n      <td>5.436900e+04</td>\n    </tr>\n    <tr>\n      <th>75%</th>\n      <td>1.596825e+06</td>\n      <td>2011.000000</td>\n      <td>71.000000</td>\n      <td>7.000000</td>\n      <td>1.689790e+05</td>\n    </tr>\n    <tr>\n      <th>max</th>\n      <td>1.352722e+07</td>\n      <td>2021.000000</td>\n      <td>100.000000</td>\n      <td>9.000000</td>\n      <td>2.312225e+06</td>\n    </tr>\n  </tbody>\n</table>\n</div>"
     },
     "execution_count": 78,
     "metadata": {},
     "output_type": "execute_result"
    }
   ],
   "source": [
    "df = pd.read_csv(\"raw_data/movie_meta_data.csv\", delimiter=\",\", index_col='title')\n",
    "df.describe()"
   ],
   "metadata": {
    "collapsed": false,
    "ExecuteTime": {
     "end_time": "2023-11-01T11:30:14.109154700Z",
     "start_time": "2023-11-01T11:30:13.522919600Z"
    }
   }
  },
  {
   "cell_type": "code",
   "execution_count": 79,
   "outputs": [
    {
     "name": "stdout",
     "output_type": "stream",
     "text": [
      "<class 'pandas.core.frame.DataFrame'>\n",
      "Index: 2858 entries, A Night at the Roxbury to You Were Never Really Here\n",
      "Data columns (total 24 columns):\n",
      " #   Column                     Non-Null Count  Dtype \n",
      "---  ------                     --------------  ----- \n",
      " 0   imdbid                     2858 non-null   int64 \n",
      " 1   akas                       2652 non-null   object\n",
      " 2   year                       2858 non-null   int64 \n",
      " 3   metascore                  2858 non-null   int64 \n",
      " 4   imdb user rating           2858 non-null   int64 \n",
      " 5   number of imdb user votes  2858 non-null   int64 \n",
      " 6   awards                     2243 non-null   object\n",
      " 7   opening weekend            1739 non-null   object\n",
      " 8   producers                  2640 non-null   object\n",
      " 9   budget                     1624 non-null   object\n",
      " 10  script department          2220 non-null   object\n",
      " 11  production companies       2682 non-null   object\n",
      " 12  writers                    2696 non-null   object\n",
      " 13  directors                  2658 non-null   object\n",
      " 14  casting directors          2141 non-null   object\n",
      " 15  cast                       2806 non-null   object\n",
      " 16  countries                  2678 non-null   object\n",
      " 17  age restrict               2526 non-null   object\n",
      " 18  plot                       2709 non-null   object\n",
      " 19  plot outline               2457 non-null   object\n",
      " 20  keywords                   2601 non-null   object\n",
      " 21  genres                     2846 non-null   object\n",
      " 22  taglines                   2256 non-null   object\n",
      " 23  synopsis                   1852 non-null   object\n",
      "dtypes: int64(5), object(19)\n",
      "memory usage: 558.2+ KB\n"
     ]
    }
   ],
   "source": [
    "df.info()"
   ],
   "metadata": {
    "collapsed": false,
    "ExecuteTime": {
     "end_time": "2023-11-01T11:30:14.113168300Z",
     "start_time": "2023-11-01T11:30:14.109154700Z"
    }
   }
  },
  {
   "cell_type": "code",
   "execution_count": 80,
   "outputs": [],
   "source": [
    "df[['A', 'B', 'C']] = df['genres'].str.split(', ', n=2, expand=True)"
   ],
   "metadata": {
    "collapsed": false,
    "ExecuteTime": {
     "end_time": "2023-11-01T11:30:14.512208300Z",
     "start_time": "2023-11-01T11:30:14.113168300Z"
    }
   }
  },
  {
   "cell_type": "code",
   "execution_count": 81,
   "outputs": [
    {
     "name": "stdout",
     "output_type": "stream",
     "text": [
      "27\n"
     ]
    }
   ],
   "source": [
    "print(len(df['A'].unique()))"
   ],
   "metadata": {
    "collapsed": false,
    "ExecuteTime": {
     "end_time": "2023-11-01T11:30:14.727276300Z",
     "start_time": "2023-11-01T11:30:14.512208300Z"
    }
   }
  },
  {
   "cell_type": "code",
   "execution_count": 82,
   "outputs": [
    {
     "data": {
      "text/plain": "                imdbid                                               akas   \ntitle                                                                       \nA Few Good Men  104257  Des hommes d'honneur (France), Eine Frage der ...  \\\nA Few Good Men  849162                                                NaN   \n\n                year  metascore  imdb user rating  number of imdb user votes   \ntitle                                                                          \nA Few Good Men  1992         62                 7                     232737  \\\nA Few Good Men  1991         -1                 6                         14   \n\n                                                           awards   \ntitle                                                               \nA Few Good Men  Oscar 1993, Golden Globe 1993, Felix 2013, Edd...  \\\nA Few Good Men                                                NaN   \n\n                opening weekend   \ntitle                             \nA Few Good Men              NaN  \\\nA Few Good Men  United States:    \n\n                                                        producers   \ntitle                                                               \nA Few Good Men  David Brown, William S. Gilmore, Steve Nicolai...  \\\nA Few Good Men  Barry Gold, Rick Hawkins, Gerald McRaney, Earl...   \n\n                                 budget  ...   \ntitle                                    ...   \nA Few Good Men  $40,000,000 (estimated)  ...  \\\nA Few Good Men                      NaN  ...   \n\n                                                     age restrict   \ntitle                                                               \nA Few Good Men  Argentina:13, Australia:M, Brazil:10::(TV rati...  \\\nA Few Good Men                                                NaN   \n\n                                                             plot   \ntitle                                                               \nA Few Good Men  Military lawyer Lieutenant Daniel Kaffee defen...  \\\nA Few Good Men  In order to promote a better image and keep Ca...   \n\n                                                     plot outline   \ntitle                                                               \nA Few Good Men  In this dramatic courtroom thriller, LT Daniel...  \\\nA Few Good Men                                                NaN   \n\n                                                         keywords   \ntitle                                                               \nA Few Good Men  lawyer, judge, famous-line, guantanamo-bay, ho...  \\\nA Few Good Men                                                NaN   \n\n                         genres   \ntitle                             \nA Few Good Men  Drama, Thriller  \\\nA Few Good Men   Comedy, Family   \n\n                                                         taglines   \ntitle                                                               \nA Few Good Men  In the heart of the nation's capital, in a cou...  \\\nA Few Good Men                                                NaN   \n\n                                                         synopsis       A   \ntitle                                                                       \nA Few Good Men  Late one evening, at the U.S. Naval Base in Gu...   Drama  \\\nA Few Good Men                                                NaN  Comedy   \n\n                       B     C  \ntitle                           \nA Few Good Men  Thriller  None  \nA Few Good Men    Family  None  \n\n[2 rows x 27 columns]",
      "text/html": "<div>\n<style scoped>\n    .dataframe tbody tr th:only-of-type {\n        vertical-align: middle;\n    }\n\n    .dataframe tbody tr th {\n        vertical-align: top;\n    }\n\n    .dataframe thead th {\n        text-align: right;\n    }\n</style>\n<table border=\"1\" class=\"dataframe\">\n  <thead>\n    <tr style=\"text-align: right;\">\n      <th></th>\n      <th>imdbid</th>\n      <th>akas</th>\n      <th>year</th>\n      <th>metascore</th>\n      <th>imdb user rating</th>\n      <th>number of imdb user votes</th>\n      <th>awards</th>\n      <th>opening weekend</th>\n      <th>producers</th>\n      <th>budget</th>\n      <th>...</th>\n      <th>age restrict</th>\n      <th>plot</th>\n      <th>plot outline</th>\n      <th>keywords</th>\n      <th>genres</th>\n      <th>taglines</th>\n      <th>synopsis</th>\n      <th>A</th>\n      <th>B</th>\n      <th>C</th>\n    </tr>\n    <tr>\n      <th>title</th>\n      <th></th>\n      <th></th>\n      <th></th>\n      <th></th>\n      <th></th>\n      <th></th>\n      <th></th>\n      <th></th>\n      <th></th>\n      <th></th>\n      <th></th>\n      <th></th>\n      <th></th>\n      <th></th>\n      <th></th>\n      <th></th>\n      <th></th>\n      <th></th>\n      <th></th>\n      <th></th>\n      <th></th>\n    </tr>\n  </thead>\n  <tbody>\n    <tr>\n      <th>A Few Good Men</th>\n      <td>104257</td>\n      <td>Des hommes d'honneur (France), Eine Frage der ...</td>\n      <td>1992</td>\n      <td>62</td>\n      <td>7</td>\n      <td>232737</td>\n      <td>Oscar 1993, Golden Globe 1993, Felix 2013, Edd...</td>\n      <td>NaN</td>\n      <td>David Brown, William S. Gilmore, Steve Nicolai...</td>\n      <td>$40,000,000 (estimated)</td>\n      <td>...</td>\n      <td>Argentina:13, Australia:M, Brazil:10::(TV rati...</td>\n      <td>Military lawyer Lieutenant Daniel Kaffee defen...</td>\n      <td>In this dramatic courtroom thriller, LT Daniel...</td>\n      <td>lawyer, judge, famous-line, guantanamo-bay, ho...</td>\n      <td>Drama, Thriller</td>\n      <td>In the heart of the nation's capital, in a cou...</td>\n      <td>Late one evening, at the U.S. Naval Base in Gu...</td>\n      <td>Drama</td>\n      <td>Thriller</td>\n      <td>None</td>\n    </tr>\n    <tr>\n      <th>A Few Good Men</th>\n      <td>849162</td>\n      <td>NaN</td>\n      <td>1991</td>\n      <td>-1</td>\n      <td>6</td>\n      <td>14</td>\n      <td>NaN</td>\n      <td>United States:</td>\n      <td>Barry Gold, Rick Hawkins, Gerald McRaney, Earl...</td>\n      <td>NaN</td>\n      <td>...</td>\n      <td>NaN</td>\n      <td>In order to promote a better image and keep Ca...</td>\n      <td>NaN</td>\n      <td>NaN</td>\n      <td>Comedy, Family</td>\n      <td>NaN</td>\n      <td>NaN</td>\n      <td>Comedy</td>\n      <td>Family</td>\n      <td>None</td>\n    </tr>\n  </tbody>\n</table>\n<p>2 rows × 27 columns</p>\n</div>"
     },
     "execution_count": 82,
     "metadata": {},
     "output_type": "execute_result"
    }
   ],
   "source": [
    "df.loc['A Few Good Men']"
   ],
   "metadata": {
    "collapsed": false,
    "ExecuteTime": {
     "end_time": "2023-11-01T11:30:15.116684200Z",
     "start_time": "2023-11-01T11:30:14.722276100Z"
    }
   }
  },
  {
   "cell_type": "code",
   "execution_count": 82,
   "outputs": [],
   "source": [],
   "metadata": {
    "collapsed": false,
    "ExecuteTime": {
     "end_time": "2023-11-01T11:30:15.116684200Z",
     "start_time": "2023-11-01T11:30:15.116684200Z"
    }
   }
  }
 ],
 "metadata": {
  "kernelspec": {
   "display_name": "Python 3",
   "language": "python",
   "name": "python3"
  },
  "language_info": {
   "codemirror_mode": {
    "name": "ipython",
    "version": 2
   },
   "file_extension": ".py",
   "mimetype": "text/x-python",
   "name": "python",
   "nbconvert_exporter": "python",
   "pygments_lexer": "ipython2",
   "version": "2.7.6"
  }
 },
 "nbformat": 4,
 "nbformat_minor": 0
}
